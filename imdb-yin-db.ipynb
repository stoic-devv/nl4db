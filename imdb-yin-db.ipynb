{
 "cells": [
  {
   "cell_type": "code",
   "execution_count": 38,
   "metadata": {},
   "outputs": [],
   "source": [
    "import os\n",
    "import pandas as pd\n",
    "import numpy as np\n",
    "import csv\n",
    "import re\n",
    "\n",
    "from sqlalchemy import inspect\n",
    "from sqlalchemy import create_engine, MetaData, Table, text, select\n",
    "from sqlalchemy.orm import sessionmaker\n",
    "\n",
    "import logging\n",
    "logging.basicConfig(level=logging.DEBUG)"
   ]
  },
  {
   "cell_type": "markdown",
   "metadata": {},
   "source": [
    "### Accessing the database"
   ]
  },
  {
   "cell_type": "code",
   "execution_count": 2,
   "metadata": {},
   "outputs": [],
   "source": [
    "# create engine\n",
    "engine = create_engine(\"postgresql://adityakanthale@localhost/imdb-yin\")\n",
    "args, kwargs = engine.dialect.create_connect_args(engine.url)\n",
    "\n",
    "# load metadata\n",
    "metadata = MetaData()\n",
    "metadata.create_all(engine)\n",
    "\n",
    "# inspector to view columns and database\n",
    "inspector = inspect(engine)"
   ]
  },
  {
   "cell_type": "code",
   "execution_count": 3,
   "metadata": {},
   "outputs": [],
   "source": [
    "# load table\n",
    "cast_info_tb = Table('cast_info', metadata)\n",
    "\n",
    "#create session\n",
    "Session = sessionmaker(bind=engine)\n",
    "session = Session()"
   ]
  },
  {
   "cell_type": "markdown",
   "metadata": {},
   "source": [
    "### Pre-processing (Generic)"
   ]
  },
  {
   "cell_type": "code",
   "execution_count": 4,
   "metadata": {},
   "outputs": [],
   "source": [
    "def write_table_to_csv(table_name, out_dir='./out'):\n",
    "\n",
    "    with engine.connect() as conn:\n",
    "        query = text(f\"SELECT * FROM {table_name}\")\n",
    "        rs = conn.execute(query)\n",
    "        with open(f\"{out_dir}/{table_name}.csv\", 'w') as f:\n",
    "            outcsv = csv.writer(f)\n",
    "            outcsv.writerow(rs.keys())\n",
    "            outcsv.writerows(rs)"
   ]
  },
  {
   "cell_type": "code",
   "execution_count": 115,
   "metadata": {},
   "outputs": [],
   "source": [
    "write_table_to_csv('ROLE_TYPE')\n",
    "write_table_to_csv('MOVIE_COMPANIES')\n",
    "write_table_to_csv('CAST_INFO')"
   ]
  },
  {
   "cell_type": "code",
   "execution_count": 5,
   "metadata": {},
   "outputs": [],
   "source": [
    "def write_table_to_df(table_name):\n",
    "    df = pd.DataFrame()\n",
    "    with engine.connect() as conn:\n",
    "        df = pd.read_sql_table(table_name=str(table_name).lower(), con=conn)\n",
    "        df.head()\n",
    "    return df"
   ]
  },
  {
   "cell_type": "code",
   "execution_count": 6,
   "metadata": {},
   "outputs": [],
   "source": [
    "role_type_df = write_table_to_df('ROLE_TYPE')\n",
    "movie_companies_df = write_table_to_df('MOVIE_COMPANIES')\n",
    "cast_info_df = write_table_to_df('CAST_INFO')"
   ]
  },
  {
   "cell_type": "code",
   "execution_count": 122,
   "metadata": {},
   "outputs": [],
   "source": [
    "cast_info_fl = pd.read_csv(\"./out/CAST_INFO.csv\")"
   ]
  },
  {
   "cell_type": "code",
   "execution_count": 13,
   "metadata": {},
   "outputs": [
    {
     "data": {
      "text/plain": [
       "['2013', 'USA', 'all media']"
      ]
     },
     "execution_count": 13,
     "metadata": {},
     "output_type": "execute_result"
    }
   ],
   "source": [
    "note_s = '(2013) (USA) (all media)'.split(') ')\n",
    "note_s = [s.strip('(').strip(')') for s in note_s]\n",
    "note_s"
   ]
  },
  {
   "cell_type": "code",
   "execution_count": 48,
   "metadata": {},
   "outputs": [],
   "source": [
    "t = [val for val in split_note_df.apply(lambda x: x[-1] if x else None).unique()]"
   ]
  },
  {
   "cell_type": "code",
   "execution_count": 72,
   "metadata": {},
   "outputs": [
    {
     "data": {
      "text/html": [
       "<div>\n",
       "<style scoped>\n",
       "    .dataframe tbody tr th:only-of-type {\n",
       "        vertical-align: middle;\n",
       "    }\n",
       "\n",
       "    .dataframe tbody tr th {\n",
       "        vertical-align: top;\n",
       "    }\n",
       "\n",
       "    .dataframe thead th {\n",
       "        text-align: right;\n",
       "    }\n",
       "</style>\n",
       "<table border=\"1\" class=\"dataframe\">\n",
       "  <thead>\n",
       "    <tr style=\"text-align: right;\">\n",
       "      <th></th>\n",
       "      <th>id</th>\n",
       "      <th>movie_id</th>\n",
       "      <th>company_id</th>\n",
       "      <th>company_type_id</th>\n",
       "      <th>note</th>\n",
       "      <th>year</th>\n",
       "      <th>area</th>\n",
       "    </tr>\n",
       "  </thead>\n",
       "  <tbody>\n",
       "    <tr>\n",
       "      <th>0</th>\n",
       "      <td>1</td>\n",
       "      <td>2</td>\n",
       "      <td>1</td>\n",
       "      <td>1</td>\n",
       "      <td>TV</td>\n",
       "      <td>2006</td>\n",
       "      <td>USA</td>\n",
       "    </tr>\n",
       "    <tr>\n",
       "      <th>1</th>\n",
       "      <td>2</td>\n",
       "      <td>2</td>\n",
       "      <td>1</td>\n",
       "      <td>1</td>\n",
       "      <td>TV</td>\n",
       "      <td>2006</td>\n",
       "      <td>worldwide</td>\n",
       "    </tr>\n",
       "    <tr>\n",
       "      <th>2</th>\n",
       "      <td>3</td>\n",
       "      <td>11</td>\n",
       "      <td>2</td>\n",
       "      <td>1</td>\n",
       "      <td>all media</td>\n",
       "      <td>2012</td>\n",
       "      <td>worldwide</td>\n",
       "    </tr>\n",
       "    <tr>\n",
       "      <th>3</th>\n",
       "      <td>4</td>\n",
       "      <td>44</td>\n",
       "      <td>3</td>\n",
       "      <td>1</td>\n",
       "      <td>all media</td>\n",
       "      <td>2013</td>\n",
       "      <td>USA</td>\n",
       "    </tr>\n",
       "    <tr>\n",
       "      <th>4</th>\n",
       "      <td>5</td>\n",
       "      <td>50</td>\n",
       "      <td>4</td>\n",
       "      <td>1</td>\n",
       "      <td>TV</td>\n",
       "      <td>2011</td>\n",
       "      <td>UK</td>\n",
       "    </tr>\n",
       "  </tbody>\n",
       "</table>\n",
       "</div>"
      ],
      "text/plain": [
       "   id  movie_id  company_id  company_type_id       note  year       area\n",
       "0   1         2           1                1         TV  2006        USA\n",
       "1   2         2           1                1         TV  2006  worldwide\n",
       "2   3        11           2                1  all media  2012  worldwide\n",
       "3   4        44           3                1  all media  2013        USA\n",
       "4   5        50           4                1         TV  2011         UK"
      ]
     },
     "execution_count": 72,
     "metadata": {},
     "output_type": "execute_result"
    }
   ],
   "source": [
    "def convert_to_valid(arr):\n",
    "\n",
    "  year_pattern = r\"^\\d{4}(-\\d{4})?$\"\n",
    "  area_len = 40\n",
    "\n",
    "  res = [None, None, None]\n",
    "  if len(arr) > 0 and re.match(year_pattern, arr[0]): res[0] = arr[0]\n",
    "  if len(arr) > 1 and len(arr[1]) <= area_len: res[1] = arr[1]\n",
    "  if len(arr) > 2: res[2] = arr[2]\n",
    "  return res\n",
    "\n",
    "def split_note(note):\n",
    "    if note:\n",
    "        note_s = note.split(') ')\n",
    "        note_vals = [s.strip('(').strip(')') for s in note_s]\n",
    "        note_vals = convert_to_valid(note_vals)\n",
    "        return note_vals\n",
    "    return [None, None, None]\n",
    "\n",
    "split_note_df = movie_companies_df['note'].apply(split_note)\n",
    "\n",
    "columns=['year', 'area', 'note']\n",
    "movie_companies_df[columns] = pd.DataFrame(split_note_df.to_list(), columns=columns)\n",
    "movie_companies_df.head()"
   ]
  },
  {
   "cell_type": "code",
   "execution_count": 117,
   "metadata": {},
   "outputs": [],
   "source": [
    "min_year = 1850\n",
    "max_year = 2023\n",
    "\n",
    "def get_bin_map(yr):\n",
    "    return (yr-min_year)//10\n",
    "\n",
    "def get_bin_yr(yr):\n",
    "    if yr:\n",
    "        if '-' in yr:\n",
    "            yr = yr[:yr.index('-')]\n",
    "        yr = int(yr)\n",
    "        return get_bin_map(yr)"
   ]
  },
  {
   "cell_type": "code",
   "execution_count": 118,
   "metadata": {},
   "outputs": [
    {
     "name": "stdout",
     "output_type": "stream",
     "text": [
      "2609129\n",
      "1109958\n"
     ]
    }
   ],
   "source": [
    "mc_copy = movie_companies_df.copy()\n",
    "mc_copy['year'] = mc_copy['year'].apply(func=get_bin_yr)\n",
    "print(len(mc_copy))\n",
    "print(len(mc_copy[mc_copy['year'].between(0,(max_year-min_year)//10)]))"
   ]
  },
  {
   "cell_type": "code",
   "execution_count": 122,
   "metadata": {},
   "outputs": [],
   "source": [
    "mc_copy[mc_copy['year'].between(0,(max_year-min_year)//10)].to_csv('./out/movie_copmpanies_processed.csv')"
   ]
  },
  {
   "cell_type": "code",
   "execution_count": 109,
   "metadata": {},
   "outputs": [
    {
     "data": {
      "text/plain": [
       "0          15.0\n",
       "1          15.0\n",
       "2          16.0\n",
       "3          16.0\n",
       "4          16.0\n",
       "           ... \n",
       "2561798     9.0\n",
       "2563907     9.0\n",
       "2578898    15.0\n",
       "2599679    10.0\n",
       "2608909    10.0\n",
       "Name: year, Length: 1109958, dtype: float64"
      ]
     },
     "execution_count": 109,
     "metadata": {},
     "output_type": "execute_result"
    }
   ],
   "source": []
  },
  {
   "cell_type": "code",
   "execution_count": 79,
   "metadata": {},
   "outputs": [
    {
     "name": "stdout",
     "output_type": "stream",
     "text": [
      "1003 9100\n"
     ]
    }
   ],
   "source": [
    "min_year = 1000000000\n",
    "max_year = -1000000000\n",
    "for yr in movie_companies_df.year.unique():\n",
    "    if yr and '-' not in yr:\n",
    "        yr = int(yr)\n",
    "        min_year = min(min_year, yr)\n",
    "        max_year = max(max_year, yr)\n",
    "print(min_year, max_year)\n",
    "\n"
   ]
  },
  {
   "cell_type": "markdown",
   "metadata": {},
   "source": [
    "Data Pre-processing:\n",
    "\n",
    "1. Read join tables\n",
    "2. Locate foreign key, sensitive attributes\n",
    "1. identify continuous values\n",
    "    1. bin them\n",
    "    2. add these as new columns\n",
    "\n",
    "Routine:\n",
    "\n",
    "1. Find distribution of attributes highly-correlated with the sensitive attrs\n",
    "2. Find join over samples with threshold a threshold for minority class???\n",
    "3. Maximal uncovered Pattern"
   ]
  },
  {
   "cell_type": "markdown",
   "metadata": {},
   "source": [
    "### Alternate methods"
   ]
  },
  {
   "cell_type": "markdown",
   "metadata": {},
   "source": [
    "# to read table"
   ]
  }
 ],
 "metadata": {
  "interpreter": {
   "hash": "5df612ae04d1295bb1e74bfa3cdd4499bd1c0c3cef4cf69b8f0e3eb775a04a22"
  },
  "kernelspec": {
   "display_name": "Python 3.8.16 ('nl4db-env')",
   "language": "python",
   "name": "python3"
  },
  "language_info": {
   "codemirror_mode": {
    "name": "ipython",
    "version": 3
   },
   "file_extension": ".py",
   "mimetype": "text/x-python",
   "name": "python",
   "nbconvert_exporter": "python",
   "pygments_lexer": "ipython3",
   "version": "3.8.16"
  },
  "orig_nbformat": 4
 },
 "nbformat": 4,
 "nbformat_minor": 2
}
