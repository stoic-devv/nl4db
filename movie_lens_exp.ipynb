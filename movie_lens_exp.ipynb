{
 "cells": [
  {
   "cell_type": "code",
   "execution_count": 2,
   "metadata": {},
   "outputs": [],
   "source": [
    "import os\n",
    "import pandas as pd\n",
    "from imdb import Cinemagoer\n",
    "\n",
    "import logging\n",
    "logging.basicConfig(level=logging.DEBUG)"
   ]
  },
  {
   "cell_type": "code",
   "execution_count": 6,
   "metadata": {},
   "outputs": [
    {
     "name": "stderr",
     "output_type": "stream",
     "text": [
      "2023-04-03 15:43:41,588 DEBUG [imdbpy.parser.sql] /Users/adityakanthale/opt/anaconda3/envs/nl4db-env/lib/python3.8/site-packages/imdb/parser/sql/__init__.py:584: connecting to postgresql://adityakanthale@localhost/imdbold\n",
      "DEBUG:imdbpy.parser.sql:connecting to postgresql://adityakanthale@localhost/imdbold\n"
     ]
    },
    {
     "name": "stdout",
     "output_type": "stream",
     "text": [
      "postgresql://adityakanthale@localhost/imdbold\n",
      "[<TableAdapter(table=Table('name', MetaData(), Column('id', Integer(), table=<name>, primary_key=True, nullable=False), Column('name', UnicodeText(), table=<name>, nullable=False), Column('imdb_index', String(length=12), table=<name>), Column('imdb_id', Integer(), table=<name>), Column('gender', String(length=1), table=<name>), Column('name_pcode_cf', String(length=5), table=<name>), Column('name_pcode_nf', String(length=5), table=<name>), Column('surname_pcode', String(length=5), table=<name>), Column('md5sum', String(length=32), table=<name>), schema=None)) [id=140535232475040]>, <TableAdapter(table=Table('char_name', MetaData(), Column('id', Integer(), table=<char_name>, primary_key=True, nullable=False), Column('name', UnicodeText(), table=<char_name>, nullable=False), Column('imdb_index', String(length=12), table=<char_name>), Column('imdb_id', Integer(), table=<char_name>), Column('name_pcode_nf', String(length=5), table=<char_name>), Column('surname_pcode', String(length=5), table=<char_name>), Column('md5sum', String(length=32), table=<char_name>), schema=None)) [id=140536338946176]>, <TableAdapter(table=Table('company_name', MetaData(), Column('id', Integer(), table=<company_name>, primary_key=True, nullable=False), Column('name', UnicodeText(), table=<company_name>, nullable=False), Column('country_code', String(length=255), table=<company_name>), Column('imdb_id', Integer(), table=<company_name>), Column('name_pcode_nf', String(length=5), table=<company_name>), Column('name_pcode_sf', String(length=5), table=<company_name>), Column('md5sum', String(length=32), table=<company_name>), schema=None)) [id=140536338947904]>, <TableAdapter(table=Table('kind_type', MetaData(), Column('id', Integer(), table=<kind_type>, primary_key=True, nullable=False), Column('kind', String(length=15), table=<kind_type>), schema=None)) [id=140535235003968]>, <TableAdapter(table=Table('title', MetaData(), Column('id', Integer(), table=<title>, primary_key=True, nullable=False), Column('title', UnicodeText(), table=<title>, nullable=False), Column('imdb_index', String(length=12), table=<title>), Column('kind_id', Integer(), table=<title>, nullable=False), Column('production_year', Integer(), table=<title>), Column('imdb_id', Integer(), table=<title>), Column('phonetic_code', String(length=5), table=<title>), Column('episode_of_id', Integer(), table=<title>), Column('season_nr', Integer(), table=<title>), Column('episode_nr', Integer(), table=<title>), Column('series_years', String(length=49), table=<title>), Column('md5sum', String(length=32), table=<title>), schema=None)) [id=140535235004784]>, <TableAdapter(table=Table('company_type', MetaData(), Column('id', Integer(), table=<company_type>, primary_key=True, nullable=False), Column('kind', String(length=32), table=<company_type>), schema=None)) [id=140535235048256]>, <TableAdapter(table=Table('aka_name', MetaData(), Column('id', Integer(), table=<aka_name>, primary_key=True, nullable=False), Column('person_id', Integer(), table=<aka_name>, nullable=False), Column('name', UnicodeText(), table=<aka_name>, nullable=False), Column('imdb_index', String(length=12), table=<aka_name>), Column('name_pcode_cf', String(length=5), table=<aka_name>), Column('name_pcode_nf', String(length=5), table=<aka_name>), Column('surname_pcode', String(length=5), table=<aka_name>), Column('md5sum', String(length=32), table=<aka_name>), schema=None)) [id=140535235049072]>, <TableAdapter(table=Table('aka_title', MetaData(), Column('id', Integer(), table=<aka_title>, primary_key=True, nullable=False), Column('movie_id', Integer(), table=<aka_title>, nullable=False), Column('title', UnicodeText(), table=<aka_title>, nullable=False), Column('imdb_index', String(length=12), table=<aka_title>), Column('kind_id', Integer(), table=<aka_title>, nullable=False), Column('production_year', Integer(), table=<aka_title>), Column('phonetic_code', String(length=5), table=<aka_title>), Column('episode_of_id', Integer(), table=<aka_title>), Column('season_nr', Integer(), table=<aka_title>), Column('episode_nr', Integer(), table=<aka_title>), Column('note', UnicodeText(), table=<aka_title>), Column('md5sum', String(length=32), table=<aka_title>), schema=None)) [id=140535235050992]>, <TableAdapter(table=Table('role_type', MetaData(), Column('id', Integer(), table=<role_type>, primary_key=True, nullable=False), Column('role', String(length=32), table=<role_type>, nullable=False), schema=None)) [id=140535235082176]>, <TableAdapter(table=Table('cast_info', MetaData(), Column('id', Integer(), table=<cast_info>, primary_key=True, nullable=False), Column('person_id', Integer(), table=<cast_info>, nullable=False), Column('movie_id', Integer(), table=<cast_info>, nullable=False), Column('person_role_id', Integer(), table=<cast_info>), Column('note', UnicodeText(), table=<cast_info>), Column('nr_order', Integer(), table=<cast_info>), Column('role_id', Integer(), table=<cast_info>, nullable=False), schema=None)) [id=140535235082992]>, <TableAdapter(table=Table('comp_cast_type', MetaData(), Column('id', Integer(), table=<comp_cast_type>, primary_key=True, nullable=False), Column('kind', String(length=32), table=<comp_cast_type>, nullable=False), schema=None)) [id=140535235125552]>, <TableAdapter(table=Table('complete_cast', MetaData(), Column('id', Integer(), table=<complete_cast>, primary_key=True, nullable=False), Column('movie_id', Integer(), table=<complete_cast>), Column('subject_id', Integer(), table=<complete_cast>, nullable=False), Column('status_id', Integer(), table=<complete_cast>, nullable=False), schema=None)) [id=140535235126368]>, <TableAdapter(table=Table('info_type', MetaData(), Column('id', Integer(), table=<info_type>, primary_key=True, nullable=False), Column('info', String(length=32), table=<info_type>, nullable=False), schema=None)) [id=140535235127424]>, <TableAdapter(table=Table('link_type', MetaData(), Column('id', Integer(), table=<link_type>, primary_key=True, nullable=False), Column('link', String(length=32), table=<link_type>, nullable=False), schema=None)) [id=140535235128240]>, <TableAdapter(table=Table('keyword', MetaData(), Column('id', Integer(), table=<keyword>, primary_key=True, nullable=False), Column('keyword', UnicodeText(), table=<keyword>, nullable=False), Column('phonetic_code', String(length=5), table=<keyword>), schema=None)) [id=140535235129056]>, <TableAdapter(table=Table('movie_keyword', MetaData(), Column('id', Integer(), table=<movie_keyword>, primary_key=True, nullable=False), Column('movie_id', Integer(), table=<movie_keyword>, nullable=False), Column('keyword_id', Integer(), table=<movie_keyword>, nullable=False), schema=None)) [id=140535235158608]>, <TableAdapter(table=Table('movie_link', MetaData(), Column('id', Integer(), table=<movie_link>, primary_key=True, nullable=False), Column('movie_id', Integer(), table=<movie_link>, nullable=False), Column('linked_movie_id', Integer(), table=<movie_link>, nullable=False), Column('link_type_id', Integer(), table=<movie_link>, nullable=False), schema=None)) [id=140535235159520]>, <TableAdapter(table=Table('movie_info', MetaData(), Column('id', Integer(), table=<movie_info>, primary_key=True, nullable=False), Column('movie_id', Integer(), table=<movie_info>, nullable=False), Column('info_type_id', Integer(), table=<movie_info>, nullable=False), Column('info', UnicodeText(), table=<movie_info>, nullable=False), Column('note', UnicodeText(), table=<movie_info>), schema=None)) [id=140535235160768]>, <TableAdapter(table=Table('movie_companies', MetaData(), Column('id', Integer(), table=<movie_companies>, primary_key=True, nullable=False), Column('movie_id', Integer(), table=<movie_companies>, nullable=False), Column('company_id', Integer(), table=<movie_companies>, nullable=False), Column('company_type_id', Integer(), table=<movie_companies>, nullable=False), Column('note', UnicodeText(), table=<movie_companies>), schema=None)) [id=140535235162064]>, <TableAdapter(table=Table('person_info', MetaData(), Column('id', Integer(), table=<person_info>, primary_key=True, nullable=False), Column('person_id', Integer(), table=<person_info>, nullable=False), Column('info_type_id', Integer(), table=<person_info>, nullable=False), Column('info', UnicodeText(), table=<person_info>, nullable=False), Column('note', UnicodeText(), table=<person_info>), schema=None)) [id=140535235208432]>]\n",
      "False\n"
     ]
    },
    {
     "ename": "TypeError",
     "evalue": "Invalid argument(s) 'encoding' sent to create_engine(), using configuration PGDialect_psycopg2/QueuePool/Engine.  Please check that the keyword arguments are appropriate for this combination of components.",
     "output_type": "error",
     "traceback": [
      "\u001b[0;31m---------------------------------------------------------------------------\u001b[0m",
      "\u001b[0;31mTypeError\u001b[0m                                 Traceback (most recent call last)",
      "Cell \u001b[0;32mIn[6], line 1\u001b[0m\n\u001b[0;32m----> 1\u001b[0m ia \u001b[38;5;241m=\u001b[39m \u001b[43mCinemagoer\u001b[49m\u001b[43m(\u001b[49m\u001b[38;5;124;43m'\u001b[39;49m\u001b[38;5;124;43msql\u001b[39;49m\u001b[38;5;124;43m'\u001b[39;49m\u001b[43m,\u001b[49m\u001b[43m \u001b[49m\u001b[43muri\u001b[49m\u001b[38;5;241;43m=\u001b[39;49m\u001b[38;5;124;43m'\u001b[39;49m\u001b[38;5;124;43mpostgresql://adityakanthale@localhost/imdbold\u001b[39;49m\u001b[38;5;124;43m'\u001b[39;49m\u001b[43m)\u001b[49m\n",
      "File \u001b[0;32m~/opt/anaconda3/envs/nl4db-env/lib/python3.8/site-packages/imdb/__init__.py:205\u001b[0m, in \u001b[0;36mIMDb\u001b[0;34m(accessSystem, *arguments, **keywords)\u001b[0m\n\u001b[1;32m    <a href='file:///Users/adityakanthale/opt/anaconda3/envs/nl4db-env/lib/python3.8/site-packages/imdb/__init__.py?line=202'>203</a>\u001b[0m     \u001b[39mexcept\u001b[39;00m \u001b[39mImportError\u001b[39;00m:\n\u001b[1;32m    <a href='file:///Users/adityakanthale/opt/anaconda3/envs/nl4db-env/lib/python3.8/site-packages/imdb/__init__.py?line=203'>204</a>\u001b[0m         \u001b[39mraise\u001b[39;00m IMDbError(\u001b[39m'\u001b[39m\u001b[39mthe sql access system is not installed\u001b[39m\u001b[39m'\u001b[39m)\n\u001b[0;32m--> <a href='file:///Users/adityakanthale/opt/anaconda3/envs/nl4db-env/lib/python3.8/site-packages/imdb/__init__.py?line=204'>205</a>\u001b[0m     \u001b[39mreturn\u001b[39;00m IMDbSqlAccessSystem(\u001b[39m*\u001b[39;49marguments, \u001b[39m*\u001b[39;49m\u001b[39m*\u001b[39;49mkeywords)\n\u001b[1;32m    <a href='file:///Users/adityakanthale/opt/anaconda3/envs/nl4db-env/lib/python3.8/site-packages/imdb/__init__.py?line=205'>206</a>\u001b[0m \u001b[39melse\u001b[39;00m:\n\u001b[1;32m    <a href='file:///Users/adityakanthale/opt/anaconda3/envs/nl4db-env/lib/python3.8/site-packages/imdb/__init__.py?line=206'>207</a>\u001b[0m     \u001b[39mraise\u001b[39;00m IMDbError(\u001b[39m'\u001b[39m\u001b[39munknown kind of data access system: \u001b[39m\u001b[39m\"\u001b[39m\u001b[39m%s\u001b[39;00m\u001b[39m\"\u001b[39m\u001b[39m'\u001b[39m \u001b[39m%\u001b[39m accessSystem)\n",
      "File \u001b[0;32m~/opt/anaconda3/envs/nl4db-env/lib/python3.8/site-packages/imdb/parser/sql/__init__.py:586\u001b[0m, in \u001b[0;36mIMDbSqlAccessSystem.__init__\u001b[0;34m(self, uri, adultSearch, *arguments, **keywords)\u001b[0m\n\u001b[1;32m    <a href='file:///Users/adityakanthale/opt/anaconda3/envs/nl4db-env/lib/python3.8/site-packages/imdb/parser/sql/__init__.py?line=583'>584</a>\u001b[0m logger\u001b[39m.\u001b[39mdebug(\u001b[39m'\u001b[39m\u001b[39mconnecting to \u001b[39m\u001b[39m%s\u001b[39;00m\u001b[39m'\u001b[39m, uri)\n\u001b[1;32m    <a href='file:///Users/adityakanthale/opt/anaconda3/envs/nl4db-env/lib/python3.8/site-packages/imdb/parser/sql/__init__.py?line=584'>585</a>\u001b[0m \u001b[39mtry\u001b[39;00m:\n\u001b[0;32m--> <a href='file:///Users/adityakanthale/opt/anaconda3/envs/nl4db-env/lib/python3.8/site-packages/imdb/parser/sql/__init__.py?line=585'>586</a>\u001b[0m     \u001b[39mself\u001b[39m\u001b[39m.\u001b[39m_connection \u001b[39m=\u001b[39m setConnection(uri, DB_TABLES)\n\u001b[1;32m    <a href='file:///Users/adityakanthale/opt/anaconda3/envs/nl4db-env/lib/python3.8/site-packages/imdb/parser/sql/__init__.py?line=586'>587</a>\u001b[0m \u001b[39mexcept\u001b[39;00m \u001b[39mAssertionError\u001b[39;00m \u001b[39mas\u001b[39;00m e:\n\u001b[1;32m    <a href='file:///Users/adityakanthale/opt/anaconda3/envs/nl4db-env/lib/python3.8/site-packages/imdb/parser/sql/__init__.py?line=587'>588</a>\u001b[0m     \u001b[39mraise\u001b[39;00m IMDbDataAccessError(\n\u001b[1;32m    <a href='file:///Users/adityakanthale/opt/anaconda3/envs/nl4db-env/lib/python3.8/site-packages/imdb/parser/sql/__init__.py?line=588'>589</a>\u001b[0m         \u001b[39m'\u001b[39m\u001b[39munable to connect to the database server; \u001b[39m\u001b[39m'\u001b[39m \u001b[39m+\u001b[39m\n\u001b[1;32m    <a href='file:///Users/adityakanthale/opt/anaconda3/envs/nl4db-env/lib/python3.8/site-packages/imdb/parser/sql/__init__.py?line=589'>590</a>\u001b[0m             \u001b[39m'\u001b[39m\u001b[39mcomplete message: \u001b[39m\u001b[39m\"\u001b[39m\u001b[39m%s\u001b[39;00m\u001b[39m\"\u001b[39m\u001b[39m'\u001b[39m \u001b[39m%\u001b[39m \u001b[39mstr\u001b[39m(e))\n",
      "File \u001b[0;32m~/opt/anaconda3/envs/nl4db-env/lib/python3.8/site-packages/imdb/parser/sql/alchemyadapter.py:458\u001b[0m, in \u001b[0;36msetConnection\u001b[0;34m(uri, tables, encoding, debug)\u001b[0m\n\u001b[1;32m    <a href='file:///Users/adityakanthale/opt/anaconda3/envs/nl4db-env/lib/python3.8/site-packages/imdb/parser/sql/alchemyadapter.py?line=455'>456</a>\u001b[0m \u001b[39mprint\u001b[39m(tables)\n\u001b[1;32m    <a href='file:///Users/adityakanthale/opt/anaconda3/envs/nl4db-env/lib/python3.8/site-packages/imdb/parser/sql/alchemyadapter.py?line=456'>457</a>\u001b[0m \u001b[39mprint\u001b[39m(debug)\n\u001b[0;32m--> <a href='file:///Users/adityakanthale/opt/anaconda3/envs/nl4db-env/lib/python3.8/site-packages/imdb/parser/sql/alchemyadapter.py?line=457'>458</a>\u001b[0m engine \u001b[39m=\u001b[39m create_engine(uri, \u001b[39m*\u001b[39;49m\u001b[39m*\u001b[39;49mparams)\n\u001b[1;32m    <a href='file:///Users/adityakanthale/opt/anaconda3/envs/nl4db-env/lib/python3.8/site-packages/imdb/parser/sql/alchemyadapter.py?line=458'>459</a>\u001b[0m metadata\u001b[39m.\u001b[39mbind \u001b[39m=\u001b[39m engine\n\u001b[1;32m    <a href='file:///Users/adityakanthale/opt/anaconda3/envs/nl4db-env/lib/python3.8/site-packages/imdb/parser/sql/alchemyadapter.py?line=459'>460</a>\u001b[0m eng_conn \u001b[39m=\u001b[39m engine\u001b[39m.\u001b[39mconnect()\n",
      "File \u001b[0;32m<string>:2\u001b[0m, in \u001b[0;36mcreate_engine\u001b[0;34m(url, **kwargs)\u001b[0m\n",
      "File \u001b[0;32m~/opt/anaconda3/envs/nl4db-env/lib/python3.8/site-packages/sqlalchemy/util/deprecations.py:277\u001b[0m, in \u001b[0;36mdeprecated_params.<locals>.decorate.<locals>.warned\u001b[0;34m(fn, *args, **kwargs)\u001b[0m\n\u001b[1;32m    <a href='file:///Users/adityakanthale/opt/anaconda3/envs/nl4db-env/lib/python3.8/site-packages/sqlalchemy/util/deprecations.py?line=269'>270</a>\u001b[0m     \u001b[39mif\u001b[39;00m m \u001b[39min\u001b[39;00m kwargs:\n\u001b[1;32m    <a href='file:///Users/adityakanthale/opt/anaconda3/envs/nl4db-env/lib/python3.8/site-packages/sqlalchemy/util/deprecations.py?line=270'>271</a>\u001b[0m         _warn_with_version(\n\u001b[1;32m    <a href='file:///Users/adityakanthale/opt/anaconda3/envs/nl4db-env/lib/python3.8/site-packages/sqlalchemy/util/deprecations.py?line=271'>272</a>\u001b[0m             messages[m],\n\u001b[1;32m    <a href='file:///Users/adityakanthale/opt/anaconda3/envs/nl4db-env/lib/python3.8/site-packages/sqlalchemy/util/deprecations.py?line=272'>273</a>\u001b[0m             versions[m],\n\u001b[1;32m    <a href='file:///Users/adityakanthale/opt/anaconda3/envs/nl4db-env/lib/python3.8/site-packages/sqlalchemy/util/deprecations.py?line=273'>274</a>\u001b[0m             version_warnings[m],\n\u001b[1;32m    <a href='file:///Users/adityakanthale/opt/anaconda3/envs/nl4db-env/lib/python3.8/site-packages/sqlalchemy/util/deprecations.py?line=274'>275</a>\u001b[0m             stacklevel\u001b[39m=\u001b[39m\u001b[39m3\u001b[39m,\n\u001b[1;32m    <a href='file:///Users/adityakanthale/opt/anaconda3/envs/nl4db-env/lib/python3.8/site-packages/sqlalchemy/util/deprecations.py?line=275'>276</a>\u001b[0m         )\n\u001b[0;32m--> <a href='file:///Users/adityakanthale/opt/anaconda3/envs/nl4db-env/lib/python3.8/site-packages/sqlalchemy/util/deprecations.py?line=276'>277</a>\u001b[0m \u001b[39mreturn\u001b[39;00m fn(\u001b[39m*\u001b[39;49margs, \u001b[39m*\u001b[39;49m\u001b[39m*\u001b[39;49mkwargs)\n",
      "File \u001b[0;32m~/opt/anaconda3/envs/nl4db-env/lib/python3.8/site-packages/sqlalchemy/engine/create.py:694\u001b[0m, in \u001b[0;36mcreate_engine\u001b[0;34m(url, **kwargs)\u001b[0m\n\u001b[1;32m    <a href='file:///Users/adityakanthale/opt/anaconda3/envs/nl4db-env/lib/python3.8/site-packages/sqlalchemy/engine/create.py?line=691'>692</a>\u001b[0m \u001b[39m# all kwargs should be consumed\u001b[39;00m\n\u001b[1;32m    <a href='file:///Users/adityakanthale/opt/anaconda3/envs/nl4db-env/lib/python3.8/site-packages/sqlalchemy/engine/create.py?line=692'>693</a>\u001b[0m \u001b[39mif\u001b[39;00m kwargs:\n\u001b[0;32m--> <a href='file:///Users/adityakanthale/opt/anaconda3/envs/nl4db-env/lib/python3.8/site-packages/sqlalchemy/engine/create.py?line=693'>694</a>\u001b[0m     \u001b[39mraise\u001b[39;00m \u001b[39mTypeError\u001b[39;00m(\n\u001b[1;32m    <a href='file:///Users/adityakanthale/opt/anaconda3/envs/nl4db-env/lib/python3.8/site-packages/sqlalchemy/engine/create.py?line=694'>695</a>\u001b[0m         \u001b[39m\"\u001b[39m\u001b[39mInvalid argument(s) \u001b[39m\u001b[39m%s\u001b[39;00m\u001b[39m sent to create_engine(), \u001b[39m\u001b[39m\"\u001b[39m\n\u001b[1;32m    <a href='file:///Users/adityakanthale/opt/anaconda3/envs/nl4db-env/lib/python3.8/site-packages/sqlalchemy/engine/create.py?line=695'>696</a>\u001b[0m         \u001b[39m\"\u001b[39m\u001b[39musing configuration \u001b[39m\u001b[39m%s\u001b[39;00m\u001b[39m/\u001b[39m\u001b[39m%s\u001b[39;00m\u001b[39m/\u001b[39m\u001b[39m%s\u001b[39;00m\u001b[39m.  Please check that the \u001b[39m\u001b[39m\"\u001b[39m\n\u001b[1;32m    <a href='file:///Users/adityakanthale/opt/anaconda3/envs/nl4db-env/lib/python3.8/site-packages/sqlalchemy/engine/create.py?line=696'>697</a>\u001b[0m         \u001b[39m\"\u001b[39m\u001b[39mkeyword arguments are appropriate for this combination \u001b[39m\u001b[39m\"\u001b[39m\n\u001b[1;32m    <a href='file:///Users/adityakanthale/opt/anaconda3/envs/nl4db-env/lib/python3.8/site-packages/sqlalchemy/engine/create.py?line=697'>698</a>\u001b[0m         \u001b[39m\"\u001b[39m\u001b[39mof components.\u001b[39m\u001b[39m\"\u001b[39m\n\u001b[1;32m    <a href='file:///Users/adityakanthale/opt/anaconda3/envs/nl4db-env/lib/python3.8/site-packages/sqlalchemy/engine/create.py?line=698'>699</a>\u001b[0m         \u001b[39m%\u001b[39m (\n\u001b[1;32m    <a href='file:///Users/adityakanthale/opt/anaconda3/envs/nl4db-env/lib/python3.8/site-packages/sqlalchemy/engine/create.py?line=699'>700</a>\u001b[0m             \u001b[39m\"\u001b[39m\u001b[39m,\u001b[39m\u001b[39m\"\u001b[39m\u001b[39m.\u001b[39mjoin(\u001b[39m\"\u001b[39m\u001b[39m'\u001b[39m\u001b[39m%s\u001b[39;00m\u001b[39m'\u001b[39m\u001b[39m\"\u001b[39m \u001b[39m%\u001b[39m k \u001b[39mfor\u001b[39;00m k \u001b[39min\u001b[39;00m kwargs),\n\u001b[1;32m    <a href='file:///Users/adityakanthale/opt/anaconda3/envs/nl4db-env/lib/python3.8/site-packages/sqlalchemy/engine/create.py?line=700'>701</a>\u001b[0m             dialect\u001b[39m.\u001b[39m\u001b[39m__class__\u001b[39m\u001b[39m.\u001b[39m\u001b[39m__name__\u001b[39m,\n\u001b[1;32m    <a href='file:///Users/adityakanthale/opt/anaconda3/envs/nl4db-env/lib/python3.8/site-packages/sqlalchemy/engine/create.py?line=701'>702</a>\u001b[0m             pool\u001b[39m.\u001b[39m\u001b[39m__class__\u001b[39m\u001b[39m.\u001b[39m\u001b[39m__name__\u001b[39m,\n\u001b[1;32m    <a href='file:///Users/adityakanthale/opt/anaconda3/envs/nl4db-env/lib/python3.8/site-packages/sqlalchemy/engine/create.py?line=702'>703</a>\u001b[0m             engineclass\u001b[39m.\u001b[39m\u001b[39m__name__\u001b[39m,\n\u001b[1;32m    <a href='file:///Users/adityakanthale/opt/anaconda3/envs/nl4db-env/lib/python3.8/site-packages/sqlalchemy/engine/create.py?line=703'>704</a>\u001b[0m         )\n\u001b[1;32m    <a href='file:///Users/adityakanthale/opt/anaconda3/envs/nl4db-env/lib/python3.8/site-packages/sqlalchemy/engine/create.py?line=704'>705</a>\u001b[0m     )\n\u001b[1;32m    <a href='file:///Users/adityakanthale/opt/anaconda3/envs/nl4db-env/lib/python3.8/site-packages/sqlalchemy/engine/create.py?line=706'>707</a>\u001b[0m engine \u001b[39m=\u001b[39m engineclass(pool, dialect, u, \u001b[39m*\u001b[39m\u001b[39m*\u001b[39mengine_args)\n\u001b[1;32m    <a href='file:///Users/adityakanthale/opt/anaconda3/envs/nl4db-env/lib/python3.8/site-packages/sqlalchemy/engine/create.py?line=708'>709</a>\u001b[0m \u001b[39mif\u001b[39;00m _initialize:\n",
      "\u001b[0;31mTypeError\u001b[0m: Invalid argument(s) 'encoding' sent to create_engine(), using configuration PGDialect_psycopg2/QueuePool/Engine.  Please check that the keyword arguments are appropriate for this combination of components."
     ]
    }
   ],
   "source": [
    "ia = Cinemagoer('sql', uri='postgresql://adityakanthale@localhost/imdbold')\n",
    "results = ia.search_movie('the matrix')\n",
    "for result in results:\n",
    "    print(result.movieID, result)\n",
    "\n",
    "matrix = results[0]\n",
    "ia.update(matrix)"
   ]
  },
  {
   "cell_type": "code",
   "execution_count": 5,
   "metadata": {},
   "outputs": [
    {
     "data": {
      "text/plain": [
       "([], {'host': 'localhost', 'dbname': 'imdbold', 'user': 'adityakanthale'})"
      ]
     },
     "execution_count": 5,
     "metadata": {},
     "output_type": "execute_result"
    }
   ],
   "source": [
    "from sqlalchemy import create_engine\n",
    "from sqlalchemy import inspect\n",
    "\n",
    "engine = create_engine(\n",
    "    \"postgresql://adityakanthale@localhost/imdbold\"\n",
    ")\n",
    "args, kwargs = engine.dialect.create_connect_args(engine.url)\n",
    "args, kwargs"
   ]
  },
  {
   "cell_type": "code",
   "execution_count": 7,
   "metadata": {},
   "outputs": [
    {
     "ename": "NameError",
     "evalue": "name 'inspect' is not defined",
     "output_type": "error",
     "traceback": [
      "\u001b[0;31m---------------------------------------------------------------------------\u001b[0m",
      "\u001b[0;31mNameError\u001b[0m                                 Traceback (most recent call last)",
      "Cell \u001b[0;32mIn[7], line 1\u001b[0m\n\u001b[0;32m----> 1\u001b[0m inspector \u001b[38;5;241m=\u001b[39m \u001b[43minspect\u001b[49m(engine)\n\u001b[1;32m      2\u001b[0m inspector\u001b[38;5;241m.\u001b[39mget_columns(\u001b[38;5;124m'\u001b[39m\u001b[38;5;124mviolence_reduction\u001b[39m\u001b[38;5;124m'\u001b[39m)\n",
      "\u001b[0;31mNameError\u001b[0m: name 'inspect' is not defined"
     ]
    }
   ],
   "source": [
    "inspector = inspect(engine)\n",
    "inspector.get_columns('violence_reduction')"
   ]
  },
  {
   "cell_type": "code",
   "execution_count": null,
   "metadata": {},
   "outputs": [],
   "source": []
  }
 ],
 "metadata": {
  "interpreter": {
   "hash": "5df612ae04d1295bb1e74bfa3cdd4499bd1c0c3cef4cf69b8f0e3eb775a04a22"
  },
  "kernelspec": {
   "display_name": "Python 3.8.16 ('nl4db-env')",
   "language": "python",
   "name": "python3"
  },
  "language_info": {
   "codemirror_mode": {
    "name": "ipython",
    "version": 3
   },
   "file_extension": ".py",
   "mimetype": "text/x-python",
   "name": "python",
   "nbconvert_exporter": "python",
   "pygments_lexer": "ipython3",
   "version": "3.8.16"
  },
  "orig_nbformat": 4
 },
 "nbformat": 4,
 "nbformat_minor": 2
}
